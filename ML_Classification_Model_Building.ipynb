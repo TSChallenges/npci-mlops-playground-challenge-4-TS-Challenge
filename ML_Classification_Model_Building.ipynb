{
 "cells": [
  {
   "cell_type": "markdown",
   "metadata": {
    "id": "o8oWcD6sruUs"
   },
   "source": [
    "# NPCI MLOps Playground Challenge - 4"
   ]
  },
  {
   "cell_type": "markdown",
   "metadata": {
    "id": "1RodUx5nscY1"
   },
   "source": [
    "## Problem Statement \n",
    "\n",
    "Develop a machine learning model that predicts the likelihood of a borrower defaulting on a loan based on factors such as credit history, repayment capacity, and annual income. This model aims to assist financial institutions in assessing the potential financial impact of credit risk and making informed lending decisions."
   ]
  },
  {
   "cell_type": "markdown",
   "metadata": {
    "id": "BydFYr4d-ZZY"
   },
   "source": [
    "## Credit Risk Prediction\n",
    "\n",
    "Credit Risk refers to the likelihood of a borrower failing to repay a loan, leading to potential financial losses for the lender. When financial institutions extend services like mortgages, credit cards, or personal loans, there exists an inherent risk that the borrower may default on their repayment obligations. To evaluate this risk, factors like credit history, repayment capacity, loan terms, and annual income can be considered.\n",
    "\n",
    "Many companies, especially financial institutions, evaluate the credit risk of their existing and forthcoming customers. With the advent of technologies like machine learning, organizations can analyze customer data to establish a risk profile. Credit risk modeling evaluates a borrower's credit risk based primarily on two factors. The first factor is determining the probability of a borrower defaulting on a loan, while the second factor involves evaluating the financial impact on the lender in case of such a default.\n",
    "\n"
   ]
  },
  {
   "cell_type": "markdown",
   "metadata": {
    "id": "G09nMTuT0C5O"
   },
   "source": [
    "## Dataset Description\n",
    "\n",
    "The dataset you'll be working with is the Credit Risk dataset, which includes the following features:\n",
    "\n",
    "* **person_age** - Age\n",
    "* **person_income** - Annual Income\n",
    "* **person_home_ownership** - Home ownership\n",
    "* **person_emp_length** - Employment length (in years)\n",
    "* **loan_intent** - Loan intent\n",
    "* **loan_grade** - Loan grade\n",
    "* **loan_amnt** - Loan amount\n",
    "* **loan_int_rate** - Interest rate\n",
    "* **loan_status** - Loan status (0 is non default 1 is default)\n",
    "* **loan_percent_income** - Percent income\n",
    "* **cb_person_default_on_file** - Historical default\n",
    "* **cb_preson_cred_hist_length** - Credit history length\n"
   ]
  },
  {
   "cell_type": "markdown",
   "metadata": {
    "id": "AUs6CBWi0um5"
   },
   "source": [
    "### Importing required packages\n"
   ]
  },
  {
   "cell_type": "code",
   "execution_count": null,
   "metadata": {
    "id": "0Ua1j5P97nDi"
   },
   "outputs": [],
   "source": [
    "#ToDo"
   ]
  },
  {
   "cell_type": "markdown",
   "metadata": {
    "id": "yIYAZEeF7aQo"
   },
   "source": [
    "### Loading the data"
   ]
  },
  {
   "cell_type": "code",
   "execution_count": null,
   "metadata": {
    "id": "5g-3iZWf79ei"
   },
   "outputs": [],
   "source": [
    "# First upload the provided `credit_risk_dataset.csv` then load it as pandas dataframe\n",
    "#ToDo"
   ]
  },
  {
   "cell_type": "markdown",
   "metadata": {
    "id": "hUJOesoM-ZYg"
   },
   "source": [
    "### EDA\n",
    "Explore the data, understand the features and handle the missing values."
   ]
  },
  {
   "cell_type": "code",
   "execution_count": null,
   "metadata": {
    "id": "s9cYFWwN7ZYu"
   },
   "outputs": [],
   "source": [
    "# Get the shape of the dataframe\n",
    "#ToDo"
   ]
  },
  {
   "cell_type": "code",
   "execution_count": null,
   "metadata": {
    "id": "5BEmlWRL8Vad"
   },
   "outputs": [],
   "source": [
    "# Display few rows of the dataframe\n",
    "#ToDo"
   ]
  },
  {
   "cell_type": "code",
   "execution_count": null,
   "metadata": {
    "id": "2vA5UhTG8YEa"
   },
   "outputs": [],
   "source": [
    "# Generate descriptive statistics for the DataFrame.To get summary statistics for numerical columns.\n",
    "#ToDo"
   ]
  },
  {
   "cell_type": "code",
   "execution_count": null,
   "metadata": {
    "id": "3VApgDn28h0u"
   },
   "outputs": [],
   "source": [
    "# Generate information about the DataFrame, including index details, column data types, non-null values, and memory usage.\n",
    "#ToDo"
   ]
  },
  {
   "cell_type": "markdown",
   "metadata": {
    "id": "h2K7-WqNCzT3"
   },
   "source": [
    "### DATA Preprocessing"
   ]
  },
  {
   "cell_type": "markdown",
   "metadata": {
    "id": "8k8WmqIBBEui"
   },
   "source": [
    "#### Handling Missing values"
   ]
  },
  {
   "cell_type": "code",
   "execution_count": null,
   "metadata": {
    "id": "9yindfUN8i50"
   },
   "outputs": [],
   "source": [
    "# Display the total number of null values of each column\n",
    "#ToDo"
   ]
  },
  {
   "cell_type": "markdown",
   "metadata": {
    "id": "hE4Cf73ABedq"
   },
   "source": [
    "Columns **person_emp_length** and **loan_int_rate** have null values.\n",
    "Handle them by replacing the missing values with the mean of the respective columns.\n"
   ]
  },
  {
   "cell_type": "code",
   "execution_count": null,
   "metadata": {
    "id": "0U4rQoKo8l9L"
   },
   "outputs": [],
   "source": [
    "# Handle missing values - replace the missing values with the mean\n",
    "#ToDo"
   ]
  },
  {
   "cell_type": "markdown",
   "metadata": {
    "id": "TcY-K5XwC6Hn"
   },
   "source": [
    "#### Handling categorical columns"
   ]
  },
  {
   "cell_type": "code",
   "execution_count": null,
   "metadata": {
    "id": "BByZ-fJg_AHt"
   },
   "outputs": [],
   "source": [
    "# Check for categorical columns\n",
    "#ToDo"
   ]
  },
  {
   "cell_type": "code",
   "execution_count": null,
   "metadata": {
    "id": "O6YVzrJuAGRX"
   },
   "outputs": [],
   "source": [
    "# Get the distinct categories present in each categorical column\n",
    "#ToDo"
   ]
  },
  {
   "cell_type": "code",
   "execution_count": null,
   "metadata": {
    "id": "Nvb41TFsAW5b"
   },
   "outputs": [],
   "source": [
    "# Create dictionaries to map categorical values to numbers. OR Use LabelEncoder\n",
    "#ToDo"
   ]
  },
  {
   "cell_type": "code",
   "execution_count": 1,
   "metadata": {
    "id": "nIOyUcffA4XC"
   },
   "outputs": [
    {
     "name": "stdout",
     "output_type": "stream",
     "text": [
      "hello world\n"
     ]
    }
   ],
   "source": [
    "# Map categorical values to numbers using respective dictionaries\n",
    "print ('hello world')"
   ]
  },
  {
   "cell_type": "code",
   "execution_count": null,
   "metadata": {
    "id": "9HYik6UPBgHI"
   },
   "outputs": [],
   "source": [
    "# Display the data to observe the changes\n",
    "#ToDo"
   ]
  },
  {
   "cell_type": "markdown",
   "metadata": {
    "id": "Pxq2288LT3_E"
   },
   "source": [
    "#### Get/Visualize the count of each classes(defaulter or Not) to understand class distribution"
   ]
  },
  {
   "cell_type": "code",
   "execution_count": null,
   "metadata": {
    "id": "o14ic3R9Z4Dk"
   },
   "outputs": [],
   "source": [
    "# Calculate the class distribution\n",
    "#ToDo\n",
    "\n",
    "# Create a bar plot\n",
    "#ToDo"
   ]
  },
  {
   "cell_type": "markdown",
   "metadata": {
    "id": "7OmR27SC7_di"
   },
   "source": [
    "### Define target variable and features"
   ]
  },
  {
   "cell_type": "code",
   "execution_count": null,
   "metadata": {
    "id": "AX0kqWU08Bm3"
   },
   "outputs": [],
   "source": [
    "# define asign features(x) and target variable(y)\n",
    "#ToDo"
   ]
  },
  {
   "cell_type": "markdown",
   "metadata": {
    "id": "8Df4y8Wa8fcx"
   },
   "source": [
    "### Train-Test split"
   ]
  },
  {
   "cell_type": "code",
   "execution_count": null,
   "metadata": {
    "id": "BIP5W83aB7qz"
   },
   "outputs": [],
   "source": [
    "# Split the data into training and testing sets\n",
    "# Use `stratify` parameter to amintain the class distribution across the training and testing set\n",
    "#ToDo"
   ]
  },
  {
   "cell_type": "markdown",
   "metadata": {
    "id": "p6PeLYH69Ivl"
   },
   "source": [
    "### Check the class distribution in the training and test sets\n",
    "\n",
    "Ensure that both sets have same target class distribution as of the original dataset"
   ]
  },
  {
   "cell_type": "code",
   "execution_count": null,
   "metadata": {
    "id": "PnY1x6wdCN9v"
   },
   "outputs": [],
   "source": [
    "# Calculate the class distribution in the training set\n",
    "#ToDo"
   ]
  },
  {
   "cell_type": "code",
   "execution_count": null,
   "metadata": {
    "id": "DODNmauICRhN"
   },
   "outputs": [],
   "source": [
    "# Calculate the class distribution in the testing set\n",
    "#ToDo"
   ]
  },
  {
   "cell_type": "markdown",
   "metadata": {
    "id": "KzftGwgyuoPZ"
   },
   "source": [
    "### Feature Scaling"
   ]
  },
  {
   "cell_type": "code",
   "execution_count": null,
   "metadata": {
    "id": "5makQDOYuoCX"
   },
   "outputs": [],
   "source": [
    "# Initialize StandardScaler and transform the training and testing features\n",
    "#ToDo"
   ]
  },
  {
   "cell_type": "markdown",
   "metadata": {
    "id": "2k_LCpMC-sTm"
   },
   "source": [
    "### Model Training\n"
   ]
  },
  {
   "cell_type": "code",
   "execution_count": null,
   "metadata": {
    "id": "C7eaY7xoCfpV"
   },
   "outputs": [],
   "source": [
    "# Initialize the LogisticRegression model\n",
    "#ToDo\n",
    "\n",
    "# Fit the model with the SCALED training data\n",
    "#ToDo"
   ]
  },
  {
   "cell_type": "code",
   "execution_count": null,
   "metadata": {
    "id": "fpTthZaNu8Dp"
   },
   "outputs": [],
   "source": [
    "# Initialize the DecisionTreeClassifier model\n",
    "#ToDo\n",
    "\n",
    "# Fit the model with the unscaled training data (Feature Scaling is not necessary for Tree based models)\n",
    "#ToDo"
   ]
  },
  {
   "cell_type": "code",
   "execution_count": null,
   "metadata": {
    "id": "_1mJckLsvALF"
   },
   "outputs": [],
   "source": [
    "# Initialize the RandomForestClassifier model\n",
    "#ToDo\n",
    "\n",
    "# Fit the model with the unscaled training data (Feature Scaling is not necessary for Tree based models)\n",
    "#ToDo"
   ]
  },
  {
   "cell_type": "markdown",
   "metadata": {
    "id": "x66q1eeVFrsQ"
   },
   "source": [
    "### Model Evaluation\n"
   ]
  },
  {
   "cell_type": "code",
   "execution_count": null,
   "metadata": {
    "id": "Duog9F4ECgrG"
   },
   "outputs": [],
   "source": [
    "# Make predictions on the test set with each of the models above\n",
    "#ToDo"
   ]
  },
  {
   "cell_type": "code",
   "execution_count": null,
   "metadata": {
    "id": "mxjh0PjJDEw4"
   },
   "outputs": [],
   "source": [
    "# Evaluate each of the model performance\n",
    "\n",
    "# Get accuracy, f1 score, precision, & recall of trained models\n",
    "#ToDo"
   ]
  },
  {
   "cell_type": "markdown",
   "metadata": {
    "id": "GjbKstBjGhQ7"
   },
   "source": [
    "### Inference"
   ]
  },
  {
   "cell_type": "code",
   "execution_count": null,
   "metadata": {
    "id": "7DqGpE39C-nC"
   },
   "outputs": [],
   "source": [
    "# Create a sample input to feed to the model\n",
    "#ToDo\n",
    "\n",
    "# Convert the sample input into a dataframe\n",
    "#ToDo"
   ]
  },
  {
   "cell_type": "code",
   "execution_count": null,
   "metadata": {
    "id": "ALyXuoeFD6_2"
   },
   "outputs": [],
   "source": [
    "# Define a simple fuction to make prediction for the sample input (use the best model among the above trained models)\n",
    "#ToDo"
   ]
  },
  {
   "cell_type": "code",
   "execution_count": null,
   "metadata": {
    "id": "SQ2PZh4YEVUb"
   },
   "outputs": [],
   "source": [
    "# Make prediction using the defined function using the sample input\n",
    "#ToDo"
   ]
  }
 ],
 "metadata": {
  "colab": {
   "provenance": []
  },
  "kernelspec": {
   "display_name": "Python 3",
   "name": "python3"
  },
  "language_info": {
   "codemirror_mode": {
    "name": "ipython",
    "version": 3
   },
   "file_extension": ".py",
   "mimetype": "text/x-python",
   "name": "python",
   "nbconvert_exporter": "python",
   "pygments_lexer": "ipython3",
   "version": "3.12.1"
  }
 },
 "nbformat": 4,
 "nbformat_minor": 0
}
